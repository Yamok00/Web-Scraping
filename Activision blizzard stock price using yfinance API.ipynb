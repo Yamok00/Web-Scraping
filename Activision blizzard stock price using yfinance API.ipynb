{
 "cells": [
  {
   "cell_type": "code",
   "execution_count": 1,
   "id": "b7e7e2c5",
   "metadata": {},
   "outputs": [],
   "source": [
    "# import required modules\n",
    "import yfinance as yf\n",
    "import pandas as pd"
   ]
  },
  {
   "cell_type": "code",
   "execution_count": 3,
   "id": "ec369a00",
   "metadata": {},
   "outputs": [],
   "source": [
    "#create object to access function to extract data\n",
    "atvi = yf.Ticker(\"ATVI\")"
   ]
  },
  {
   "cell_type": "code",
   "execution_count": 4,
   "id": "104a8855",
   "metadata": {},
   "outputs": [],
   "source": [
    "atvi_info = atvi.info"
   ]
  },
  {
   "cell_type": "code",
   "execution_count": 5,
   "id": "69ada5e1",
   "metadata": {},
   "outputs": [
    {
     "data": {
      "text/plain": [
       "{'zip': '90404',\n",
       " 'sector': 'Communication Services',\n",
       " 'fullTimeEmployees': 9800,\n",
       " 'longBusinessSummary': \"Activision Blizzard, Inc., together with its subsidiaries, develops and publishes interactive entertainment content and services in the Americas, Europe, the Middle East, Africa, and the Asia Pacific. The company operates through three segments: Activision, Blizzard, and King. It develops and distributes content and services on video game consoles, personal computers, and mobile devices, including subscription, full-game, and in-game sales, as well as by licensing software to third-party or related-party companies that distribute Activision and Blizzard products. The company also maintains a proprietary online gaming service, Battle.net that facilitates digital distribution of content, online social connectivity, and the creation of user-generated content. In addition, it operates esports leagues and offer digital advertising content; and provides warehousing, logistics, and sales distribution services to third-party publishers of interactive entertainment software, as well as manufacturers of interactive entertainment hardware products. The company's key product franchises include Call of Duty, World of Warcraft, Diablo, Hearthstone, Overwatch, Overwatch League, and Candy Crush. It serves retailers and distributors, including mass-market retailers, consumer electronics stores, discount warehouses, and game specialty stores through third-party distribution and licensing arrangements. The company is headquartered in Santa Monica, California.\",\n",
       " 'city': 'Santa Monica',\n",
       " 'phone': '310 255 2000',\n",
       " 'state': 'CA',\n",
       " 'country': 'United States',\n",
       " 'companyOfficers': [],\n",
       " 'website': 'https://www.activisionblizzard.com',\n",
       " 'maxAge': 1,\n",
       " 'address1': '2701 Olympic Boulevard Building B',\n",
       " 'industry': 'Electronic Gaming & Multimedia',\n",
       " 'ebitdaMargins': 0.32744998,\n",
       " 'profitMargins': 0.24568,\n",
       " 'grossMargins': 0.71900004,\n",
       " 'operatingCashflow': 2022000000,\n",
       " 'revenueGrowth': -0.284,\n",
       " 'operatingMargins': 0.31384,\n",
       " 'ebitda': 2503000064,\n",
       " 'targetLowPrice': 75,\n",
       " 'recommendationKey': 'buy',\n",
       " 'grossProfits': 6486000000,\n",
       " 'freeCashflow': 1481874944,\n",
       " 'targetMedianPrice': 95,\n",
       " 'currentPrice': 79.28,\n",
       " 'earningsGrowth': -0.68,\n",
       " 'currentRatio': 6.179,\n",
       " 'returnOnAssets': 0.061750002,\n",
       " 'numberOfAnalystOpinions': 27,\n",
       " 'targetMeanPrice': 93.09,\n",
       " 'debtToEquity': 19.777,\n",
       " 'returnOnEquity': 0.10876001,\n",
       " 'targetHighPrice': 105,\n",
       " 'totalCash': 10732999680,\n",
       " 'totalDebt': 3608999936,\n",
       " 'totalRevenue': 7644000256,\n",
       " 'totalCashPerShare': 13.72,\n",
       " 'financialCurrency': 'USD',\n",
       " 'revenuePerShare': 9.806,\n",
       " 'quickRatio': 5.585,\n",
       " 'recommendationMean': 2.3,\n",
       " 'exchange': 'NMS',\n",
       " 'shortName': 'Activision Blizzard, Inc',\n",
       " 'longName': 'Activision Blizzard, Inc.',\n",
       " 'exchangeTimezoneName': 'America/New_York',\n",
       " 'exchangeTimezoneShortName': 'EDT',\n",
       " 'isEsgPopulated': False,\n",
       " 'gmtOffSetMilliseconds': '-14400000',\n",
       " 'quoteType': 'EQUITY',\n",
       " 'symbol': 'ATVI',\n",
       " 'messageBoardId': 'finmb_4222231',\n",
       " 'market': 'us_market',\n",
       " 'annualHoldingsTurnover': None,\n",
       " 'enterpriseToRevenue': 7.231,\n",
       " 'beta3Year': None,\n",
       " 'enterpriseToEbitda': 22.083,\n",
       " '52WeekChange': -0.018190801,\n",
       " 'morningStarRiskRating': None,\n",
       " 'forwardEps': 3.83,\n",
       " 'revenueQuarterlyGrowth': None,\n",
       " 'sharesOutstanding': 782307008,\n",
       " 'fundInceptionDate': None,\n",
       " 'annualReportExpenseRatio': None,\n",
       " 'totalAssets': None,\n",
       " 'bookValue': 23.326,\n",
       " 'sharesShort': 18239570,\n",
       " 'sharesPercentSharesOut': 0.0233,\n",
       " 'fundFamily': None,\n",
       " 'lastFiscalYearEnd': 1640908800,\n",
       " 'heldPercentInstitutions': 0.83142,\n",
       " 'netIncomeToCommon': 1878000000,\n",
       " 'trailingEps': 2.39,\n",
       " 'lastDividendValue': 0.47,\n",
       " 'SandP52WeekChange': -0.08172697,\n",
       " 'priceToBook': 3.3987825,\n",
       " 'heldPercentInsiders': 0.008640001,\n",
       " 'nextFiscalYearEnd': 1703980800,\n",
       " 'yield': None,\n",
       " 'mostRecentQuarter': 1656547200,\n",
       " 'shortRatio': 4.11,\n",
       " 'sharesShortPreviousMonthDate': 1656547200,\n",
       " 'floatShares': 707690189,\n",
       " 'beta': 0.50671,\n",
       " 'enterpriseValue': 55272775680,\n",
       " 'priceHint': 2,\n",
       " 'threeYearAverageReturn': None,\n",
       " 'lastSplitDate': 1220832000,\n",
       " 'lastSplitFactor': '2:1',\n",
       " 'legalType': None,\n",
       " 'lastDividendDate': 1649808000,\n",
       " 'morningStarOverallRating': None,\n",
       " 'earningsQuarterlyGrowth': -0.68,\n",
       " 'priceToSalesTrailing12Months': 8.113723,\n",
       " 'dateShortInterest': 1659052800,\n",
       " 'pegRatio': 2.59,\n",
       " 'ytdReturn': None,\n",
       " 'forwardPE': 20.69974,\n",
       " 'lastCapGain': None,\n",
       " 'shortPercentOfFloat': 0.0235,\n",
       " 'sharesShortPriorMonth': 15982239,\n",
       " 'impliedSharesOutstanding': 0,\n",
       " 'category': None,\n",
       " 'fiveYearAverageReturn': None,\n",
       " 'previousClose': 79.34,\n",
       " 'regularMarketOpen': 79.36,\n",
       " 'twoHundredDayAverage': 75.19645,\n",
       " 'trailingAnnualDividendYield': 0.0059238723,\n",
       " 'payoutRatio': 0.1967,\n",
       " 'volume24Hr': None,\n",
       " 'regularMarketDayHigh': 79.73,\n",
       " 'navPrice': None,\n",
       " 'averageDailyVolume10Day': 4526570,\n",
       " 'regularMarketPreviousClose': 79.34,\n",
       " 'fiftyDayAverage': 78.5192,\n",
       " 'trailingAnnualDividendRate': 0.47,\n",
       " 'open': 79.36,\n",
       " 'toCurrency': None,\n",
       " 'averageVolume10days': 4526570,\n",
       " 'expireDate': None,\n",
       " 'algorithm': None,\n",
       " 'dividendRate': 0.47,\n",
       " 'exDividendDate': 1649808000,\n",
       " 'circulatingSupply': None,\n",
       " 'startDate': None,\n",
       " 'regularMarketDayLow': 79.135,\n",
       " 'currency': 'USD',\n",
       " 'trailingPE': 33.171547,\n",
       " 'regularMarketVolume': 3436028,\n",
       " 'lastMarket': None,\n",
       " 'maxSupply': None,\n",
       " 'openInterest': None,\n",
       " 'marketCap': 62021300224,\n",
       " 'volumeAllCurrencies': None,\n",
       " 'strikePrice': None,\n",
       " 'averageVolume': 4653038,\n",
       " 'dayLow': 79.135,\n",
       " 'ask': 79.49,\n",
       " 'askSize': 800,\n",
       " 'volume': 3436028,\n",
       " 'fiftyTwoWeekHigh': 86.9,\n",
       " 'fromCurrency': None,\n",
       " 'fiveYearAvgDividendYield': 0.58,\n",
       " 'fiftyTwoWeekLow': 56.4,\n",
       " 'bid': 79.47,\n",
       " 'tradeable': False,\n",
       " 'dividendYield': 0.0058999998,\n",
       " 'bidSize': 1000,\n",
       " 'dayHigh': 79.73,\n",
       " 'coinMarketCapLink': None,\n",
       " 'regularMarketPrice': 79.28,\n",
       " 'preMarketPrice': 79.3704,\n",
       " 'logo_url': 'https://logo.clearbit.com/activisionblizzard.com',\n",
       " 'trailingPegRatio': 4.9313}"
      ]
     },
     "execution_count": 5,
     "metadata": {},
     "output_type": "execute_result"
    }
   ],
   "source": [
    "atvi_info"
   ]
  },
  {
   "cell_type": "code",
   "execution_count": 6,
   "id": "698aa12b",
   "metadata": {},
   "outputs": [
    {
     "data": {
      "text/plain": [
       "'United States'"
      ]
     },
     "execution_count": 6,
     "metadata": {},
     "output_type": "execute_result"
    }
   ],
   "source": [
    "atvi_info['country']"
   ]
  },
  {
   "cell_type": "code",
   "execution_count": 8,
   "id": "39e9371e",
   "metadata": {},
   "outputs": [
    {
     "data": {
      "text/plain": [
       "'Communication Services'"
      ]
     },
     "execution_count": 8,
     "metadata": {},
     "output_type": "execute_result"
    }
   ],
   "source": [
    "atvi_info['sector']"
   ]
  },
  {
   "cell_type": "code",
   "execution_count": 9,
   "id": "880480d3",
   "metadata": {},
   "outputs": [],
   "source": [
    "# share price data\n",
    "atvi_share_price_data = atvi.history(period=\"max\")"
   ]
  },
  {
   "cell_type": "code",
   "execution_count": 10,
   "id": "e19b5f55",
   "metadata": {},
   "outputs": [
    {
     "data": {
      "text/html": [
       "<div>\n",
       "<style scoped>\n",
       "    .dataframe tbody tr th:only-of-type {\n",
       "        vertical-align: middle;\n",
       "    }\n",
       "\n",
       "    .dataframe tbody tr th {\n",
       "        vertical-align: top;\n",
       "    }\n",
       "\n",
       "    .dataframe thead th {\n",
       "        text-align: right;\n",
       "    }\n",
       "</style>\n",
       "<table border=\"1\" class=\"dataframe\">\n",
       "  <thead>\n",
       "    <tr style=\"text-align: right;\">\n",
       "      <th></th>\n",
       "      <th>Open</th>\n",
       "      <th>High</th>\n",
       "      <th>Low</th>\n",
       "      <th>Close</th>\n",
       "      <th>Volume</th>\n",
       "      <th>Dividends</th>\n",
       "      <th>Stock Splits</th>\n",
       "    </tr>\n",
       "    <tr>\n",
       "      <th>Date</th>\n",
       "      <th></th>\n",
       "      <th></th>\n",
       "      <th></th>\n",
       "      <th></th>\n",
       "      <th></th>\n",
       "      <th></th>\n",
       "      <th></th>\n",
       "    </tr>\n",
       "  </thead>\n",
       "  <tbody>\n",
       "    <tr>\n",
       "      <th>1993-10-25</th>\n",
       "      <td>1.108217</td>\n",
       "      <td>1.108217</td>\n",
       "      <td>0.831163</td>\n",
       "      <td>0.831163</td>\n",
       "      <td>18000</td>\n",
       "      <td>0.0</td>\n",
       "      <td>0.0</td>\n",
       "    </tr>\n",
       "    <tr>\n",
       "      <th>1993-10-26</th>\n",
       "      <td>1.089747</td>\n",
       "      <td>1.089747</td>\n",
       "      <td>0.757282</td>\n",
       "      <td>0.766516</td>\n",
       "      <td>189600</td>\n",
       "      <td>0.0</td>\n",
       "      <td>0.0</td>\n",
       "    </tr>\n",
       "    <tr>\n",
       "      <th>1993-10-27</th>\n",
       "      <td>0.766516</td>\n",
       "      <td>0.766516</td>\n",
       "      <td>0.766516</td>\n",
       "      <td>0.766516</td>\n",
       "      <td>0</td>\n",
       "      <td>0.0</td>\n",
       "      <td>0.0</td>\n",
       "    </tr>\n",
       "    <tr>\n",
       "      <th>1993-10-28</th>\n",
       "      <td>0.627989</td>\n",
       "      <td>0.738811</td>\n",
       "      <td>0.517167</td>\n",
       "      <td>0.729576</td>\n",
       "      <td>30000</td>\n",
       "      <td>0.0</td>\n",
       "      <td>0.0</td>\n",
       "    </tr>\n",
       "    <tr>\n",
       "      <th>1993-10-29</th>\n",
       "      <td>0.775752</td>\n",
       "      <td>0.775752</td>\n",
       "      <td>0.738811</td>\n",
       "      <td>0.738811</td>\n",
       "      <td>172800</td>\n",
       "      <td>0.0</td>\n",
       "      <td>0.0</td>\n",
       "    </tr>\n",
       "  </tbody>\n",
       "</table>\n",
       "</div>"
      ],
      "text/plain": [
       "                Open      High       Low     Close  Volume  Dividends  \\\n",
       "Date                                                                    \n",
       "1993-10-25  1.108217  1.108217  0.831163  0.831163   18000        0.0   \n",
       "1993-10-26  1.089747  1.089747  0.757282  0.766516  189600        0.0   \n",
       "1993-10-27  0.766516  0.766516  0.766516  0.766516       0        0.0   \n",
       "1993-10-28  0.627989  0.738811  0.517167  0.729576   30000        0.0   \n",
       "1993-10-29  0.775752  0.775752  0.738811  0.738811  172800        0.0   \n",
       "\n",
       "            Stock Splits  \n",
       "Date                      \n",
       "1993-10-25           0.0  \n",
       "1993-10-26           0.0  \n",
       "1993-10-27           0.0  \n",
       "1993-10-28           0.0  \n",
       "1993-10-29           0.0  "
      ]
     },
     "execution_count": 10,
     "metadata": {},
     "output_type": "execute_result"
    }
   ],
   "source": [
    "atvi_share_price_data.head()"
   ]
  },
  {
   "cell_type": "code",
   "execution_count": 13,
   "id": "223f6dfc",
   "metadata": {},
   "outputs": [],
   "source": [
    "atvi_share_price_data.reset_index(inplace=True)"
   ]
  },
  {
   "cell_type": "code",
   "execution_count": 15,
   "id": "cc27c252",
   "metadata": {
    "scrolled": true
   },
   "outputs": [
    {
     "data": {
      "text/plain": [
       "<AxesSubplot:title={'center':'Activision share price'}, xlabel='Date'>"
      ]
     },
     "execution_count": 15,
     "metadata": {},
     "output_type": "execute_result"
    },
    {
     "data": {
      "image/png": "[encoded data removed]",
      "text/plain": [
       "<Figure size 432x288 with 1 Axes>"
      ]
     },
     "metadata": {
      "needs_background": "light"
     },
     "output_type": "display_data"
    }
   ],
   "source": [
    "atvi_share_price_data.plot(x='Date', y='Open', title='Activision share price')"
   ]
  },
  {
   "cell_type": "code",
   "execution_count": 16,
   "id": "aa1cf80f",
   "metadata": {
    "scrolled": true
   },
   "outputs": [
    {
     "data": {
      "text/html": [
       "<div>\n",
       "<style scoped>\n",
       "    .dataframe tbody tr th:only-of-type {\n",
       "        vertical-align: middle;\n",
       "    }\n",
       "\n",
       "    .dataframe tbody tr th {\n",
       "        vertical-align: top;\n",
       "    }\n",
       "\n",
       "    .dataframe thead th {\n",
       "        text-align: right;\n",
       "    }\n",
       "</style>\n",
       "<table border=\"1\" class=\"dataframe\">\n",
       "  <thead>\n",
       "    <tr style=\"text-align: right;\">\n",
       "      <th></th>\n",
       "      <th>Firm</th>\n",
       "      <th>To Grade</th>\n",
       "      <th>From Grade</th>\n",
       "      <th>Action</th>\n",
       "    </tr>\n",
       "    <tr>\n",
       "      <th>Date</th>\n",
       "      <th></th>\n",
       "      <th></th>\n",
       "      <th></th>\n",
       "      <th></th>\n",
       "    </tr>\n",
       "  </thead>\n",
       "  <tbody>\n",
       "    <tr>\n",
       "      <th>2012-03-27 08:01:00</th>\n",
       "      <td>Stifel Nicolaus</td>\n",
       "      <td>Buy</td>\n",
       "      <td></td>\n",
       "      <td>init</td>\n",
       "    </tr>\n",
       "    <tr>\n",
       "      <th>2012-03-30 12:21:00</th>\n",
       "      <td>Ascendiant Capital</td>\n",
       "      <td>Buy</td>\n",
       "      <td></td>\n",
       "      <td>init</td>\n",
       "    </tr>\n",
       "    <tr>\n",
       "      <th>2012-05-08 10:14:00</th>\n",
       "      <td>National Alliance</td>\n",
       "      <td>Accumulate</td>\n",
       "      <td></td>\n",
       "      <td>main</td>\n",
       "    </tr>\n",
       "    <tr>\n",
       "      <th>2012-05-10 07:00:00</th>\n",
       "      <td>PiperJaffray</td>\n",
       "      <td>Neutral</td>\n",
       "      <td></td>\n",
       "      <td>main</td>\n",
       "    </tr>\n",
       "    <tr>\n",
       "      <th>2012-05-10 09:52:00</th>\n",
       "      <td>National Alliance</td>\n",
       "      <td>Buy</td>\n",
       "      <td></td>\n",
       "      <td>up</td>\n",
       "    </tr>\n",
       "    <tr>\n",
       "      <th>...</th>\n",
       "      <td>...</td>\n",
       "      <td>...</td>\n",
       "      <td>...</td>\n",
       "      <td>...</td>\n",
       "    </tr>\n",
       "    <tr>\n",
       "      <th>2022-01-19 14:20:04</th>\n",
       "      <td>Exane BNP Paribas</td>\n",
       "      <td>Neutral</td>\n",
       "      <td>Outperform</td>\n",
       "      <td>down</td>\n",
       "    </tr>\n",
       "    <tr>\n",
       "      <th>2022-01-19 14:36:01</th>\n",
       "      <td>Stifel</td>\n",
       "      <td>Buy</td>\n",
       "      <td></td>\n",
       "      <td>main</td>\n",
       "    </tr>\n",
       "    <tr>\n",
       "      <th>2022-01-21 12:54:30</th>\n",
       "      <td>Raymond James</td>\n",
       "      <td>Market Perform</td>\n",
       "      <td>Outperform</td>\n",
       "      <td>down</td>\n",
       "    </tr>\n",
       "    <tr>\n",
       "      <th>2022-01-28 09:28:27</th>\n",
       "      <td>Keybanc</td>\n",
       "      <td>Overweight</td>\n",
       "      <td></td>\n",
       "      <td>main</td>\n",
       "    </tr>\n",
       "    <tr>\n",
       "      <th>2022-07-25 14:10:53</th>\n",
       "      <td>MoffettNathanson</td>\n",
       "      <td>Outperform</td>\n",
       "      <td>Market Perform</td>\n",
       "      <td>up</td>\n",
       "    </tr>\n",
       "  </tbody>\n",
       "</table>\n",
       "<p>238 rows × 4 columns</p>\n",
       "</div>"
      ],
      "text/plain": [
       "                                   Firm        To Grade      From Grade Action\n",
       "Date                                                                          \n",
       "2012-03-27 08:01:00     Stifel Nicolaus             Buy                   init\n",
       "2012-03-30 12:21:00  Ascendiant Capital             Buy                   init\n",
       "2012-05-08 10:14:00   National Alliance      Accumulate                   main\n",
       "2012-05-10 07:00:00        PiperJaffray         Neutral                   main\n",
       "2012-05-10 09:52:00   National Alliance             Buy                     up\n",
       "...                                 ...             ...             ...    ...\n",
       "2022-01-19 14:20:04   Exane BNP Paribas         Neutral      Outperform   down\n",
       "2022-01-19 14:36:01              Stifel             Buy                   main\n",
       "2022-01-21 12:54:30       Raymond James  Market Perform      Outperform   down\n",
       "2022-01-28 09:28:27             Keybanc      Overweight                   main\n",
       "2022-07-25 14:10:53    MoffettNathanson      Outperform  Market Perform     up\n",
       "\n",
       "[238 rows x 4 columns]"
      ]
     },
     "execution_count": 16,
     "metadata": {},
     "output_type": "execute_result"
    }
   ],
   "source": [
    "atvi.recommendations"
   ]
  },
  {
   "cell_type": "code",
   "execution_count": null,
   "id": "aab482d4",
   "metadata": {},
   "outputs": [],
   "source": []
  }
 ],
 "metadata": {
  "kernelspec": {
   "display_name": "Python 3 (ipykernel)",
   "language": "python",
   "name": "python3"
  },
  "language_info": {
   "codemirror_mode": {
    "name": "ipython",
    "version": 3
   },
   "file_extension": ".py",
   "mimetype": "text/x-python",
   "name": "python",
   "nbconvert_exporter": "python",
   "pygments_lexer": "ipython3",
   "version": "3.9.12"
  }
 },
 "nbformat": 4,
 "nbformat_minor": 5
}
